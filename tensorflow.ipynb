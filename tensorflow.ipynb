# Sample dataset of movie reviews
reviews = [
    "I loved the movie, it was fantastic!",
    "The film was boring and too long.",
    "Great movie, I enjoyed every moment.",
    "Terrible movie, I wouldn't recommend it.",
    "An excellent film, very well made!",
    "The plot was weak and uninteresting.",
    "Amazing performances by the cast!",
    "The movie was a waste of time.",
    "Brilliant direction and cinematography.",
    "I didn't like the movie at all."
]

# Labels: 1 for positive, 0 for negative
labels = [1, 0, 1, 0, 1, 0, 1, 0, 1, 0]


import tensorflow as tf
from tensorflow.keras.preprocessing.text import Tokenizer
from tensorflow.keras.preprocessing.sequence import pad_sequences

# Tokenize the text
tokenizer = Tokenizer(num_words=10000, oov_token="<OOV>")
tokenizer.fit_on_texts(reviews)
sequences = tokenizer.texts_to_sequences(reviews)

# Pad the sequences
padded_sequences = pad_sequences(sequences, padding='post', maxlen=10)

# Display the tokenized and padded sequences
print(padded_sequences)


# Build the model
model = tf.keras.Sequential([
    tf.keras.layers.Embedding(10000, 16, input_length=10),
    tf.keras.layers.GlobalAveragePooling1D(),
    tf.keras.layers.Dense(16, activation='relu'),
    tf.keras.layers.Dense(1, activation='sigmoid')
])

# Compile the model
model.compile(optimizer='adam', loss='binary_crossentropy', metrics=['accuracy'])

# Display the model summary
model.summary()


# Train the model
model.fit(padded_sequences, labels, epochs=10)


# Evaluate the model
loss, accuracy = model.evaluate(padded_sequences, labels)
print(f"Accuracy: {accuracy*100:.2f}%")


# Test with new data
new_reviews = ["The movie was absolutely amazing!", "I didn't enjoy the movie."]
new_sequences = tokenizer.texts_to_sequences(new_reviews)
new_padded_sequences = pad_sequences(new_sequences, padding='post', maxlen=10)

# Predict
predictions = model.predict(new_padded_sequences)
print(predictions)
